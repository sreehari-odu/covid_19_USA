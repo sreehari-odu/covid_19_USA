{
  "nbformat": 4,
  "nbformat_minor": 0,
  "metadata": {
    "colab": {
      "name": "covid data.ipynb",
      "provenance": [],
      "collapsed_sections": []
    },
    "kernelspec": {
      "name": "python3",
      "display_name": "Python 3"
    },
    "language_info": {
      "name": "python"
    }
  },
  "cells": [
    {
      "cell_type": "markdown",
      "metadata": {
        "id": "qTG3V42E4O3S"
      },
      "source": [
        "Two datasets from CDC will be used for this project. One dataset provides information about demographics for COVID-19 cases and the second dataset priovides information about cases and deaths by state.\n",
        "\n",
        "Dataset 1: COVID-19 Case Surveillance Public Use Data\n",
        "\n",
        "URL: https://data.cdc.gov/Case-Surveillance/COVID-19-Case-Surveillance-Public-Use-Data/vbim-akqf\n",
        "\n",
        "Dataset 2: United States COVID-19 Cases and Deaths by State over Time\n",
        "\n",
        "URL: https://data.cdc.gov/Case-Surveillance/United-States-COVID-19-Cases-and-Deaths-by-State-o/9mfq-cb36"
      ]
    }
  ]
}